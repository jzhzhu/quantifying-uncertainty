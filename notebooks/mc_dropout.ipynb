{
 "cells": [
  {
   "cell_type": "markdown",
   "metadata": {},
   "source": [
    "### 1. Initial Training"
   ]
  },
  {
   "cell_type": "code",
   "execution_count": 1,
   "metadata": {},
   "outputs": [],
   "source": [
    "from src.models.transfer_nlp_utils import DataProcessor, Trainer, set_seed, get_training_objects\n",
    "\n",
    "from matplotlib import pyplot as plt\n",
    "import numpy as np\n",
    "import pandas as pd\n",
    "import torch\n",
    "%matplotlib inline"
   ]
  },
  {
   "cell_type": "code",
   "execution_count": 2,
   "metadata": {},
   "outputs": [],
   "source": [
    "import random\n",
    "params = {\n",
    "    'num_epochs': 10,\n",
    "    'weight_decay': 0.1,\n",
    "    'adam_epsilon': 1e-6,\n",
    "    'model_name': 'roberta-base',\n",
    "    'max_grad_norm': 1.0,\n",
    "    'lr': 1e-5,\n",
    "    'bs': 64,\n",
    "    'device': 'cuda',\n",
    "    'task': 'cola',\n",
    "    'data_dir': '../data/external/CoLA',\n",
    "    'max_seq_length': 50,          \n",
    "    'metric_name': 'mcc',\n",
    "    'patience': 3,\n",
    "    'seed': random.randint(1, 1000),\n",
    "    'n': -1,\n",
    "    'total_steps': 5336, \n",
    "    'warmup_steps': 320\n",
    "}"
   ]
  },
  {
   "cell_type": "code",
   "execution_count": 3,
   "metadata": {},
   "outputs": [
    {
     "name": "stdout",
     "output_type": "stream",
     "text": [
      "Training roberta-base with lr = 1e-05,bs = 64, n = -1\n",
      "------------------------------------------------------------------------------------------------------\n"
     ]
    },
    {
     "name": "stderr",
     "output_type": "stream",
     "text": [
      "/home/ubuntu/anaconda3/envs/pytorch_p36/lib/python3.6/site-packages/sklearn/metrics/classification.py:872: RuntimeWarning: invalid value encountered in double_scalars\n",
      "  mcc = cov_ytyp / np.sqrt(cov_ytyt * cov_ypyp)\n"
     ]
    },
    {
     "name": "stdout",
     "output_type": "stream",
     "text": [
      "Epoch   1/10 | Loss:  0.65 (T)  0.60 (V) | MCC: 0.008 (T) 0.000 (V) | LR: 4.2e-06 | Time: 32.70s \n",
      "------------------------------------------------------------------------------------------------------\n",
      "Epoch   2/10 | Loss:  0.27 (T)  0.27 (V) | MCC: 0.179 (T) 0.425 (V) | LR: 8.4e-06 | Time: 32.22s \n",
      "------------------------------------------------------------------------------------------------------\n",
      "Epoch   3/10 | Loss:  0.15 (T)  0.16 (V) | MCC: 0.517 (T) 0.485 (V) | LR: 9.8e-06 | Time: 32.22s \n",
      "------------------------------------------------------------------------------------------------------\n",
      "Epoch   4/10 | Loss:  0.09 (T)  0.13 (V) | MCC: 0.650 (T) 0.529 (V) | LR: 9.6e-06 | Time: 32.24s \n",
      "------------------------------------------------------------------------------------------------------\n",
      "Epoch   5/10 | Loss:  0.06 (T)  0.10 (V) | MCC: 0.736 (T) 0.581 (V) | LR: 9.3e-06 | Time: 32.33s \n",
      "------------------------------------------------------------------------------------------------------\n",
      "Epoch   6/10 | Loss:  0.04 (T)  0.08 (V) | MCC: 0.800 (T) 0.591 (V) | LR: 9e-06 | Time: 32.25s \n",
      "------------------------------------------------------------------------------------------------------\n",
      "Epoch   7/10 | Loss:  0.03 (T)  0.06 (V) | MCC: 0.837 (T) 0.611 (V) | LR: 8.8e-06 | Time: 32.18s \n",
      "------------------------------------------------------------------------------------------------------\n",
      "Epoch   8/10 | Loss:  0.02 (T)  0.07 (V) | MCC: 0.857 (T) 0.594 (V) | LR: 8.5e-06 | Time: 30.41s \n",
      "------------------------------------------------------------------------------------------------------\n",
      "Epoch   9/10 | Loss:  0.01 (T)  0.07 (V) | MCC: 0.888 (T) 0.613 (V) | LR: 8.2e-06 | Time: 32.25s \n",
      "------------------------------------------------------------------------------------------------------\n",
      "Epoch  10/10 | Loss:  0.01 (T)  0.06 (V) | MCC: 0.909 (T) 0.591 (V) | LR: 8e-06 | Time: 30.39s \n",
      "------------------------------------------------------------------------------------------------------\n",
      "Training complete 5.39m\n"
     ]
    }
   ],
   "source": [
    "set_seed(params['seed'])\n",
    "dp = DataProcessor(params)\n",
    "trainer = Trainer(params, dp, *get_training_objects(params))\n",
    "trainer.fit()"
   ]
  },
  {
   "cell_type": "markdown",
   "metadata": {},
   "source": [
    "### 2. Running Inference with Monte Carlo Dropout"
   ]
  },
  {
   "cell_type": "code",
   "execution_count": 4,
   "metadata": {},
   "outputs": [],
   "source": [
    "del trainer.scheduler, trainer.optimizer"
   ]
  },
  {
   "cell_type": "code",
   "execution_count": 5,
   "metadata": {},
   "outputs": [],
   "source": [
    "class MonteCarloDropout:\n",
    "    \"\"\"Runs Monte Carlo dropout inference and stores results. \n",
    "    Also stores naive confidence scores associated with softmax output.\n",
    "    \"\"\"\n",
    "    \n",
    "    def __init__(self, model, dataloader, n_iter, device):\n",
    "        self.model = model\n",
    "        self.dataloader = dataloader\n",
    "        self.n_iter = n_iter\n",
    "        self.device = device\n",
    "        self.nv_conf = []\n",
    "        self.nv_pred = []        \n",
    "        self.mc_pred = []\n",
    "        self.mc_conf = []\n",
    "        self.obs = []\n",
    "        self.results = []\n",
    "                    \n",
    "    def _infer_one_batch(self, batch):\n",
    "        probas = []\n",
    "        with torch.no_grad():\n",
    "            xb, mb, _, yb = tuple(t.to(self.device) for t in batch)\n",
    "            for i in range(self.n_iter):\n",
    "                outputs = self.model(input_ids=xb, attention_mask=mb, labels=yb)\n",
    "                proba = torch.nn.functional.softmax(outputs[1], dim=1)\n",
    "                if i == 0:\n",
    "                    self.nv_conf.append(torch.max(proba, dim=1)[0].cpu().numpy())\n",
    "                    self.nv_pred.append(proba[:,-1].cpu().numpy())\n",
    "                probas.append(proba[:,-1].unsqueeze(-1))\n",
    "            probas = torch.cat(probas, dim=1)\n",
    "            assert probas[0,0] != probas[0,1], 'Make sure dropout is turned on'\n",
    "            self.mc_pred.append(probas.mean(dim=1).cpu().numpy())\n",
    "            self.mc_conf.append(probas.std(dim=1).cpu().numpy())\n",
    "            self.obs.append(yb.cpu().numpy())\n",
    "            \n",
    "    def _aggregate_results(self, pred_cutoff=0.5):\n",
    "        df = pd.DataFrame({\n",
    "            'nv_conf': np.concatenate(self.nv_conf), \n",
    "            'nv_pred': np.concatenate(self.nv_pred),\n",
    "            'mc_pred': np.concatenate(self.mc_pred), \n",
    "            'mc_conf': np.concatenate(self.mc_conf),\n",
    "            'obs': np.concatenate(self.obs)\n",
    "        })\n",
    "        df['nv_pred_cls'] = (df['nv_pred'] > pred_cutoff).astype(int)\n",
    "        df['mc_pred_cls'] = (df['mc_pred'] > pred_cutoff).astype(int)\n",
    "        self.results = df\n",
    "        \n",
    "    def run_inference(self):\n",
    "        self.model.train()\n",
    "        for batch in self.dataloader:\n",
    "            self._infer_one_batch(batch)\n",
    "        self._aggregate_results()"
   ]
  },
  {
   "cell_type": "code",
   "execution_count": 6,
   "metadata": {},
   "outputs": [
    {
     "data": {
      "text/html": [
       "<div>\n",
       "<style scoped>\n",
       "    .dataframe tbody tr th:only-of-type {\n",
       "        vertical-align: middle;\n",
       "    }\n",
       "\n",
       "    .dataframe tbody tr th {\n",
       "        vertical-align: top;\n",
       "    }\n",
       "\n",
       "    .dataframe thead th {\n",
       "        text-align: right;\n",
       "    }\n",
       "</style>\n",
       "<table border=\"1\" class=\"dataframe\">\n",
       "  <thead>\n",
       "    <tr style=\"text-align: right;\">\n",
       "      <th></th>\n",
       "      <th>nv_conf</th>\n",
       "      <th>nv_pred</th>\n",
       "      <th>mc_pred</th>\n",
       "      <th>mc_conf</th>\n",
       "      <th>obs</th>\n",
       "      <th>nv_pred_cls</th>\n",
       "      <th>mc_pred_cls</th>\n",
       "    </tr>\n",
       "  </thead>\n",
       "  <tbody>\n",
       "    <tr>\n",
       "      <th>0</th>\n",
       "      <td>0.984419</td>\n",
       "      <td>0.984419</td>\n",
       "      <td>0.870510</td>\n",
       "      <td>0.247130</td>\n",
       "      <td>1</td>\n",
       "      <td>1</td>\n",
       "      <td>1</td>\n",
       "    </tr>\n",
       "    <tr>\n",
       "      <th>1</th>\n",
       "      <td>0.997587</td>\n",
       "      <td>0.997587</td>\n",
       "      <td>0.996291</td>\n",
       "      <td>0.001367</td>\n",
       "      <td>1</td>\n",
       "      <td>1</td>\n",
       "      <td>1</td>\n",
       "    </tr>\n",
       "    <tr>\n",
       "      <th>2</th>\n",
       "      <td>0.985419</td>\n",
       "      <td>0.985419</td>\n",
       "      <td>0.759916</td>\n",
       "      <td>0.365820</td>\n",
       "      <td>1</td>\n",
       "      <td>1</td>\n",
       "      <td>1</td>\n",
       "    </tr>\n",
       "    <tr>\n",
       "      <th>3</th>\n",
       "      <td>0.996002</td>\n",
       "      <td>0.996002</td>\n",
       "      <td>0.990035</td>\n",
       "      <td>0.012091</td>\n",
       "      <td>1</td>\n",
       "      <td>1</td>\n",
       "      <td>1</td>\n",
       "    </tr>\n",
       "    <tr>\n",
       "      <th>4</th>\n",
       "      <td>0.604447</td>\n",
       "      <td>0.395553</td>\n",
       "      <td>0.373219</td>\n",
       "      <td>0.196422</td>\n",
       "      <td>0</td>\n",
       "      <td>0</td>\n",
       "      <td>0</td>\n",
       "    </tr>\n",
       "  </tbody>\n",
       "</table>\n",
       "</div>"
      ],
      "text/plain": [
       "    nv_conf   nv_pred   mc_pred   mc_conf  obs  nv_pred_cls  mc_pred_cls\n",
       "0  0.984419  0.984419  0.870510  0.247130    1            1            1\n",
       "1  0.997587  0.997587  0.996291  0.001367    1            1            1\n",
       "2  0.985419  0.985419  0.759916  0.365820    1            1            1\n",
       "3  0.996002  0.996002  0.990035  0.012091    1            1            1\n",
       "4  0.604447  0.395553  0.373219  0.196422    0            0            0"
      ]
     },
     "execution_count": 6,
     "metadata": {},
     "output_type": "execute_result"
    }
   ],
   "source": [
    "mcdo = MonteCarloDropout(trainer.model, dp.valid_dataloader, 5, 'cuda')\n",
    "mcdo.run_inference()\n",
    "mcdo.results.head()"
   ]
  },
  {
   "cell_type": "markdown",
   "metadata": {},
   "source": [
    "### 3. Caclulate Coverage vs. Accuracy"
   ]
  },
  {
   "cell_type": "code",
   "execution_count": 13,
   "metadata": {},
   "outputs": [],
   "source": [
    "def sort_filter(df, pct, sort_key, ascending):\n",
    "    n_obs = int(pct * df.shape[0])\n",
    "    return df.sort_values(sort_key, ascending=ascending).head(n_obs)\n",
    "\n",
    "def accuracy(y_pred, y_obs):\n",
    "    return (y_pred==y_obs).mean()\n",
    "\n",
    "def calc_accuracies(coverages, df, sort_key, ascending):\n",
    "    accuracies = []\n",
    "    for coverage in coverages:\n",
    "        df_high_conf = sort_filter(df, coverage, sort_key+'_conf', ascending)\n",
    "        accuracies.append(accuracy(df_high_conf[sort_key+'_pred_cls'], df_high_conf.obs))\n",
    "    return accuracies\n",
    "\n",
    "def visualize(x, y_li, label_li, title=None):\n",
    "    fig1, ax1 = plt.subplots(figsize=(10,8))\n",
    "    ax1.plot(x, y_li[0], 'go', markersize=10, alpha=.8, label=label_li[0])\n",
    "    ax1.plot(x, y_li[1], 'bo', markersize=10, alpha=.8, label=label_li[1])\n",
    "    ax1.set_xlabel('Coverage')\n",
    "    ax1.set_ylabel('Accuracy')\n",
    "    ax1.set_ylim([0.80, 1])\n",
    "    ax1.grid(True)\n",
    "    ax1.set_title(title)\n",
    "    ax1.set_xticks(x)\n",
    "    ax1.legend()"
   ]
  },
  {
   "cell_type": "code",
   "execution_count": 14,
   "metadata": {},
   "outputs": [],
   "source": [
    "coverages = [1, 0.9, 0.8, 0.7, 0.65, 0.6, 0.55, 0.5, 0.45, 0.4, 0.3, 0.2, 0.1]\n",
    "accuracies_mc = calc_accuracies(coverages, mcdo.results, 'mc', True)\n",
    "accuracies_nv = calc_accuracies(coverages, mcdo.results, 'nv', False)"
   ]
  },
  {
   "cell_type": "code",
   "execution_count": 15,
   "metadata": {},
   "outputs": [
    {
     "data": {
      "image/png": "[encoded data removed]",
      "text/plain": [
       "<Figure size 720x576 with 1 Axes>"
      ]
     },
     "metadata": {},
     "output_type": "display_data"
    }
   ],
   "source": [
    "visualize(coverages, [accuracies_nv, accuracies_mc], ['Naive', 'MC dropout'], 'MC Dropout Evaluated')"
   ]
  }
 ],
 "metadata": {
  "kernelspec": {
   "display_name": "Environment (conda_pytorch_p36)",
   "language": "python",
   "name": "conda_pytorch_p36"
  },
  "language_info": {
   "codemirror_mode": {
    "name": "ipython",
    "version": 3
   },
   "file_extension": ".py",
   "mimetype": "text/x-python",
   "name": "python",
   "nbconvert_exporter": "python",
   "pygments_lexer": "ipython3",
   "version": "3.6.5"
  }
 },
 "nbformat": 4,
 "nbformat_minor": 2
}
